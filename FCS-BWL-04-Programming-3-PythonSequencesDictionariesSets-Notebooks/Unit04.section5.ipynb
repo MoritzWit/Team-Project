{
 "cells": [
  {
   "cell_type": "markdown",
   "id": "equal-patrick",
   "metadata": {
    "slideshow": {
     "slide_type": "slide"
    }
   },
   "source": [
    "# Lecture 4\n",
    "\n",
    "# Section 5: Web applications with `streamlit`\n",
    "\n"
   ]
  },
  {
   "cell_type": "markdown",
   "id": "conscious-couple",
   "metadata": {
    "slideshow": {
     "slide_type": "slide"
    }
   },
   "source": [
    "# Roll the dice\n",
    "Do you remeber our _roll the dice_ example from week 2?"
   ]
  },
  {
   "cell_type": "markdown",
   "id": "vital-imaging",
   "metadata": {
    "slideshow": {
     "slide_type": "-"
    }
   },
   "source": [
    "### Rolling a Six-Sided Die 6,000,000 Times\n",
    "* If `randrange` truly produces integers at random, every number in its range has an equal probability (or chance or likelihood) of being returned each time we call it. \n",
    "* Roll a die 6,000,000 times.\n",
    "* Each die face should occur approximately 1,000,000 times.\n",
    "* We used Python’s underscore (_) digit separator to make the value 6000000 more readable. "
   ]
  },
  {
   "cell_type": "code",
   "execution_count": null,
   "id": "bf519987",
   "metadata": {
    "slideshow": {
     "slide_type": "slide"
    }
   },
   "outputs": [],
   "source": [
    "import random\n",
    "\n",
    "# face frequency counters\n",
    "frequency1 = 0\n",
    "frequency2 = 0\n",
    "frequency3 = 0\n",
    "frequency4 = 0\n",
    "frequency5 = 0\n",
    "frequency6 = 0\n",
    "\n",
    "# 6,000,000 die rolls\n",
    "for roll in range(6_000_000):  # note underscore separators, for readability\n",
    "    face = random.randrange(1, 7)\n",
    "\n",
    "    # increment appropriate face counter\n",
    "    if face == 1:\n",
    "        frequency1 += 1\n",
    "    elif face == 2:\n",
    "        frequency2 += 1\n",
    "    elif face == 3:\n",
    "        frequency3 += 1\n",
    "    elif face == 4:\n",
    "        frequency4 += 1\n",
    "    elif face == 5:\n",
    "        frequency5 += 1\n",
    "    elif face == 6:\n",
    "        frequency6 += 1\n",
    "\n",
    "print(f'Face{\"Frequency\":>13}')   # f'...' is a f-String, format string: print 'Face' at cursor position, \n",
    "                                  # move cursor for 13 positions and print 'Frequency' flush righ\n",
    "print(f'{1:>4}{frequency1:>13}')  # move coursor 4 positions and print 1 flush right, move cursor for 13 positions and\n",
    "                                  # print the value of frequency1 flush right\n",
    "print(f'{2:>4}{frequency2:>13}')  # and so on\n",
    "print(f'{3:>4}{frequency3:>13}')\n",
    "print(f'{4:>4}{frequency4:>13}')\n",
    "print(f'{5:>4}{frequency5:>13}')\n",
    "print(f'{6:>4}{frequency6:>13}')"
   ]
  },
  {
   "cell_type": "markdown",
   "id": "2097b3dd",
   "metadata": {
    "slideshow": {
     "slide_type": "slide"
    }
   },
   "source": [
    "### A more universal version of _roll the dice_ as a function \n",
    "This version of the function is an adapted and extended version of the roll the dice implementation from week 2. The main difference is, that we now use dictionaries and made it more universal. "
   ]
  },
  {
   "cell_type": "code",
   "execution_count": null,
   "id": "a1911a1e",
   "metadata": {
    "slideshow": {
     "slide_type": "fragment"
    }
   },
   "outputs": [],
   "source": [
    "def roll_the_dice(rolls, sides=6, print_results=False):\n",
    "    import random\n",
    "    \n",
    "    # face frequency counters\n",
    "    # this time as a dictionary\n",
    "    frequencies = {}\n",
    "\n",
    "    # here we roll number of rolls times\n",
    "    for roll in range(rolls):\n",
    "        face = random.randrange(1, sides+1)\n",
    "\n",
    "        # increment appropriate face counter\n",
    "        # this time as a dictionary\n",
    "        #\n",
    "        # fist we check, whether the the resulting face \n",
    "        # is in our dictonary already, then increase its\n",
    "        # frequency by one \n",
    "        if face in frequencies:\n",
    "            frequencies[face] += 1\n",
    "        # otherwise insert this face and set it to one\n",
    "        else:\n",
    "            frequencies[face] = 1\n",
    "            \n",
    "    # we may print the results to the console        \n",
    "    if print_results:\n",
    "        sides_len = len(str(sides))\n",
    "        value_len = len(str(max(frequencies.values())))\n",
    "        for key, value in sorted(frequencies.items()):\n",
    "            print(f'{key:>{sides_len}}: {value:>{value_len}}')\n",
    "            \n",
    "    # finally we return the dictionary sorted by keys\n",
    "    return dict(sorted(frequencies.items()))"
   ]
  },
  {
   "cell_type": "code",
   "execution_count": null,
   "id": "aca9d45b",
   "metadata": {
    "slideshow": {
     "slide_type": "slide"
    }
   },
   "outputs": [],
   "source": [
    "roll_the_dice(6_000_000)"
   ]
  },
  {
   "cell_type": "code",
   "execution_count": null,
   "id": "97d2dcf2",
   "metadata": {},
   "outputs": [],
   "source": [
    "roll_the_dice(6_000_000, sides=6, print_results=True)"
   ]
  },
  {
   "cell_type": "markdown",
   "id": "35253954",
   "metadata": {
    "slideshow": {
     "slide_type": "slide"
    }
   },
   "source": [
    "# Now let's make it a Web Application\n",
    "However, first **you** need to install `streamlit`. How to do that and how to get started, you will learn in the exercise group on Friday. If you can't wait, you'll also find it [here](https://docs.streamlit.io/library/get-started)."
   ]
  },
  {
   "cell_type": "markdown",
   "id": "f5d39420",
   "metadata": {
    "slideshow": {
     "slide_type": "fragment"
    }
   },
   "source": [
    "... we head over to a text editor and our console"
   ]
  },
  {
   "cell_type": "markdown",
   "id": "695798bc",
   "metadata": {
    "slideshow": {
     "slide_type": "fragment"
    }
   },
   "source": [
    "#### On a _Mac_\n",
    "- **How to run streamlit programs:** You can simply use your terminal application \n",
    "- **How to edit streamlit programs:** Use a text editor of your choice, for our demos here I use [Sublime Text](https://www.sublimetext.com/)\n",
    "\n",
    "#### On a _Windows PC_\n",
    "- **How to run streamlit programs:** Start your command line _cmd.exe_ **from ANACONDA Navigator**  \n",
    "- **How to edit streamlit programs:** Use a text editor of your choice, a simple but good one may be [Notepad++](https://notepad-plus-plus.org/)\n",
    "\n",
    "#### on Linux ... you probably know how to help yourself"
   ]
  },
  {
   "cell_type": "markdown",
   "id": "34b3f098",
   "metadata": {
    "slideshow": {
     "slide_type": "slide"
    }
   },
   "source": [
    "Quick (and dirty) way to **install `streamlit`** on the command line\n",
    "> `pip install streamlit`\n",
    "\n",
    "**Test** your installation\n",
    "> `streamlit hello`\n",
    "\n",
    "On the concosole (command line) you can **run a streamlit app** as\n",
    "> `streamlit run <path_to_file>/streamlit_demo.py`\n",
    "\n",
    "* then your standard web browser will open and show the app \n",
    "* it runs locally on your machine\n",
    "* while the app is running, you can edit the source code with a text editor, and your app will reflect your changes in (more or less) real time"
   ]
  },
  {
   "cell_type": "markdown",
   "id": "355d3c66",
   "metadata": {
    "slideshow": {
     "slide_type": "slide"
    }
   },
   "source": [
    "## ... and deploy it in the cloud\n",
    "This is some optional extension\n",
    "- ... now that we know how to build web apps, we can also deploy them in the cloud [(Howto)](https://streamlit.io/cloud)\n",
    "- This is what we did with our _roll the dice_ app ... it will also work on your mobile\n",
    "> https://fcs-demo.streamlit.app/"
   ]
  }
 ],
 "metadata": {
  "celltoolbar": "Slideshow",
  "kernelspec": {
   "display_name": "Python 3 (ipykernel)",
   "language": "python",
   "name": "python3"
  },
  "language_info": {
   "codemirror_mode": {
    "name": "ipython",
    "version": 3
   },
   "file_extension": ".py",
   "mimetype": "text/x-python",
   "name": "python",
   "nbconvert_exporter": "python",
   "pygments_lexer": "ipython3",
   "version": "3.11.6"
  }
 },
 "nbformat": 4,
 "nbformat_minor": 5
}
